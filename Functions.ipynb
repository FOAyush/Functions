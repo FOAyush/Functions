{
  "nbformat": 4,
  "nbformat_minor": 0,
  "metadata": {
    "colab": {
      "provenance": []
    },
    "kernelspec": {
      "name": "python3",
      "display_name": "Python 3"
    },
    "language_info": {
      "name": "python"
    }
  },
  "cells": [
    {
      "cell_type": "markdown",
      "source": [
        "**1) What is the difference between a function and a method in Python**?\n",
        "\n",
        "**Ans)->** The primary distinction between a function and a method lies in their association: functions are independent and can be called directly, whereas methods are tied to objects and are invoked through them. This difference is particularly important in object-oriented programming, where methods define the behaviors of objects and can access or modify their attributes.\n",
        "\n",
        "**2) Explain the concept of function arguments and parameters in Python.**\n",
        "\n",
        "**Ans**)-> In Python, function parameters and arguments are fundamental concepts that enable functions to operate with dynamic inputs.\n",
        "\n",
        "A parameter is a variable defined in the function's declaration. It acts as a placeholder that specifies what type of data the function expects when called. For example, in the function definition def add(a, b):, a and b are parameters.\n",
        "\n",
        "An argument, on the other hand, is the actual value or reference passed to the function when it is called. Continuing with the previous example, calling add(2, 3) passes 2 and 3 as arguments to the function. These arguments are then assigned to the corresponding parameters a and b within the function's scope.\n",
        "\n",
        "Understanding the distinction between parameters and arguments is crucial for writing clear and effective Python code. Parameters define what kind of data a function expects, while arguments provide the specific data when the function is invoked\n",
        "\n",
        "\n",
        "**3) What are the different ways to define and call a function in Python?**\n",
        "\n",
        "**Ans)-**>In Python, you define a function using the def keyword followed by the function name, a set of parentheses that may contain parameters, and a colon. The code block within the function is indented. To call a function, you simply use its name followed by parentheses, providing any required arguments within the parentheses. For instance, a function can be defined as def greet(name): print(f\"Hello, {name}!\") and then called using greet(\"Alice\"). Additionally, Python allows for anonymous functions using the lambda keyword, which are often used for simple, one-line functions. For example, square = lambda x: x*x defines an anonymous function that squares its input, and it can be called as square(5). These are the primary ways to define and subsequently call functions in Python.\n",
        "\n",
        "\n",
        "**4)  What is the purpose of the `return` statement in a Python function?**\n",
        "\n",
        "**Ans**)-> he primary purpose of the return statement in a Python function is to send a value back to the caller of the function. When a return statement is encountered, the function's execution stops, and the specified value (or None if no value is explicitly given) is passed back to the part of the code that called the function. This allows functions to perform computations or operations and then provide the result of that work to be used elsewhere in the program. Without a return statement, or if a function reaches its end without one, the function implicitly returns None.\n",
        "\n",
        "**5) What are iterators in Python and how do they differ from iterables?**\n",
        "\n",
        "**Ans**)-> In Python, an iterable is any object that can return its members one at a time. Examples of iterables include lists, tuples, strings, dictionaries, and sets. Essentially, if you can loop over an object using a for loop, it's an iterable. Under the hood, an iterable has an __iter__() method which returns an iterator.\n",
        "\n",
        "An iterator, on the other hand, is an object that enables you to traverse through an iterable. It implements the iterator protocol, which consists of two methods: __iter__() (which returns the iterator object itself) and __next__() (which returns the next item from the iterable). Iterators have state; they remember their position in the iteration. Once an iterator is exhausted (all items have been returned), further calls to __next__() will raise a StopIteration exception.\n",
        "\n",
        "The key difference is that an iterable is something you can get an iterator from, while an iterator is the object that does the actual stepping through the elements. Every iterator is also an iterable (its __iter__() method returns itself), but not every iterable is an iterator. For example, a list is iterable, but calling next() directly on a list will result in a TypeError; you first need to obtain an iterator from the list using the iter() function.\n",
        "\n",
        "**6) Explain the concept of generators in Python and how they are defined.**\n",
        "\n",
        "**Ans**)-> Generators in Python offer a memory-efficient way to create iterators. Defined using functions with the yield keyword, they don't return a single value and terminate like regular functions. Instead, when called, a generator function returns a generator object. The function's execution pauses at each yield, producing a value to the caller, and resumes from the same point when the next value is requested. This on-demand generation is particularly useful for working with large or infinite sequences, as it avoids storing the entire sequence in memory. Generator expressions, similar to list comprehensions but using parentheses, provide a concise syntax for creating simple generators.\n",
        "\n",
        "**7) What are the advantages of using generators over regular functions?**\n",
        "\n",
        "**Ans**)-> The primary advantages of using generators over regular functions that return lists lie in their memory efficiency and ability to handle potentially infinite sequences. Regular functions often need to create and store the entire result in memory before returning it, which can be problematic for large datasets. In contrast, generators produce items one at a time, only when requested, thus consuming significantly less memory. This on-demand generation also allows generators to work with sequences that are too large to fit into memory or even infinite streams of data, as they don't need to generate all the elements upfront. Furthermore, this lazy evaluation can lead to performance improvements in some cases, as computations are only performed when the values are actually needed.\n",
        "\n",
        "\n",
        "**8) What is a lambda function in Python and when is it typically used?**\n",
        "\n",
        "**Ans**)-> A lambda function in Python is a small, anonymous function defined using the lambda keyword. It can take any number of arguments but can only have one expression. The result of this expression is what the lambda function returns. Lambda functions are typically used in situations where a small function is needed for a short period, often as an argument to higher-order functions like map(), filter(), and sorted(). Their concise syntax makes the code more readable in such contexts, avoiding the need to define a separate, named function for a simple operation. For example, you might use a lambda function to specify the sorting key or the filtering condition directly within the call to sorted() or filter().\n",
        "\n",
        "**9) Explain the purpose and usage of the `map()` function in Python.**\n",
        "\n",
        "**Ans**)->The map() function in Python is used to apply a given function to each item in an iterable (like a list, tuple, etc.) and returns an iterator that yields the results. Its purpose is to transform each element of an iterable in a consistent way without explicitly writing a loop. You typically use map() by passing it two arguments: the function you want to apply and the iterable you want to process. For example, to square every number in a list, you could use map(lambda x: x*x, [1, 2, 3]), which would return an iterator yielding 1, 4, and 9. To see these results, you would typically convert the iterator to a list using list(). This provides a concise and often more readable way to perform element-wise operations on iterables.\n",
        "\n",
        "**10)  What is the difference between `map()`, `reduce()`, and `filter()` functions in Python?**\n",
        "\n",
        "**Ans**)-> The functions map(), reduce(), and filter() in Python are all higher-order functions that operate on iterables, but they serve different purposes. map() applies a given function to each item of an iterable and returns an iterator of the results. filter() also applies a given function to each item of an iterable, but it returns an iterator containing only the items for which the function returns True. In contrast, reduce() (which is in the functools module in Python 3) applies a function cumulatively to the items of an iterable, from left to right, so as to reduce the iterable to a single value. For example, map() could square each number in a list, filter() could select only the even numbers, and reduce() could compute the product of all numbers in the list.\n",
        "\n"
      ],
      "metadata": {
        "id": "Pgjmak4qY58Y"
      }
    },
    {
      "cell_type": "code",
      "execution_count": 1,
      "metadata": {
        "id": "O4T0s9ClYoFO",
        "colab": {
          "base_uri": "https://localhost:8080/"
        },
        "outputId": "4fa5a89e-7674-4bc9-f720-95409e98546d"
      },
      "outputs": [
        {
          "output_type": "stream",
          "name": "stdout",
          "text": [
            "The sum of even numbers in the list is: 30\n"
          ]
        }
      ],
      "source": [
        "#1  Write a Python function that takes a list of numbers as input and returns the sum of all even numbers in the list.\n",
        "\n",
        "def sum_even_numbers(numbers):\n",
        "    \"\"\"\n",
        "    Calculates the sum of all even numbers in the provided list.\n",
        "\n",
        "    Args:\n",
        "        numbers (list): A list of integers.\n",
        "\n",
        "    Returns:\n",
        "        int: The sum of all even numbers in the list.\n",
        "    \"\"\"\n",
        "    total = 0\n",
        "    for num in numbers:\n",
        "        if num % 2 == 0:\n",
        "            total += num\n",
        "    return total\n",
        "\n",
        "numbers = [1, 2, 3, 4, 5, 6, 7, 8, 9, 10]\n",
        "result = sum_even_numbers(numbers)\n",
        "print(f\"The sum of even numbers in the list is: {result}\")\n"
      ]
    },
    {
      "cell_type": "code",
      "source": [
        "#2 Create a Python function that accepts a string and returns the reverse of that string.\\\n",
        "\n",
        "def reverse_string(input_str):\n",
        "    \"\"\"\n",
        "    Reverses the given string.\n",
        "\n",
        "    Args:\n",
        "        input_str (str): The string to be reversed.\n",
        "\n",
        "    Returns:\n",
        "        str: The reversed string.\n",
        "    \"\"\"\n",
        "    return input_str[::-1]\n",
        "\n",
        "input_str = \"Hello, World!\"\n",
        "reversed_str = reverse_string(input_str)\n",
        "print(f\"Original: {input_str}\")\n",
        "print(f\"Reversed: {reversed_str}\")\n"
      ],
      "metadata": {
        "colab": {
          "base_uri": "https://localhost:8080/"
        },
        "id": "bOUHF0k5ex9l",
        "outputId": "7e46e700-9604-4e50-9ee3-9e07f5c393a1"
      },
      "execution_count": 2,
      "outputs": [
        {
          "output_type": "stream",
          "name": "stdout",
          "text": [
            "Original: Hello, World!\n",
            "Reversed: !dlroW ,olleH\n"
          ]
        }
      ]
    },
    {
      "cell_type": "code",
      "source": [
        "#3 Implement a Python function that takes a list of integers and returns a new list containing the squares of each number.\n",
        "\n",
        "def square_numbers(numbers):\n",
        "    \"\"\"\n",
        "    Returns a new list containing the squares of each number in the input list.\n",
        "\n",
        "    Args:\n",
        "        numbers (list): A list of integers.\n",
        "\n",
        "    Returns:\n",
        "        list: A list of squared integers.\n",
        "    \"\"\"\n",
        "    return [num ** 2 for num in numbers]\n",
        "\n",
        "numbers = [1, 2, 3, 4, 5]\n",
        "squared_numbers = square_numbers(numbers)\n",
        "print(f\"Original numbers: {numbers}\")\n",
        "print(f\"Squared numbers: {squared_numbers}\")\n"
      ],
      "metadata": {
        "colab": {
          "base_uri": "https://localhost:8080/"
        },
        "id": "tFagED90e89o",
        "outputId": "2a8c22c6-433c-41cd-d10f-4c65e14e03a8"
      },
      "execution_count": 3,
      "outputs": [
        {
          "output_type": "stream",
          "name": "stdout",
          "text": [
            "Original numbers: [1, 2, 3, 4, 5]\n",
            "Squared numbers: [1, 4, 9, 16, 25]\n"
          ]
        }
      ]
    },
    {
      "cell_type": "code",
      "source": [
        "#4 Write a Python function that checks if a given number is prime or not from 1 to 200\n",
        "\n",
        "import math\n",
        "\n",
        "def is_prime(n):\n",
        "    \"\"\"\n",
        "    Returns True if n is a prime number, False otherwise.\n",
        "    \"\"\"\n",
        "    if n <= 1:\n",
        "        return False\n",
        "    for i in range(2, int(math.sqrt(n)) + 1):\n",
        "        if n % i == 0:\n",
        "            return False\n",
        "    return True\n",
        "\n",
        "def primes_up_to_200():\n",
        "    \"\"\"\n",
        "    Returns a list of all prime numbers from 1 to 200.\n",
        "    \"\"\"\n",
        "    return [num for num in range(1, 201) if is_prime(num)]\n",
        "\n",
        "print(primes_up_to_200())\n"
      ],
      "metadata": {
        "colab": {
          "base_uri": "https://localhost:8080/"
        },
        "id": "FjqSa72tfH-_",
        "outputId": "255c69ab-d6e9-409e-9322-b4de517e2fb5"
      },
      "execution_count": 4,
      "outputs": [
        {
          "output_type": "stream",
          "name": "stdout",
          "text": [
            "[2, 3, 5, 7, 11, 13, 17, 19, 23, 29, 31, 37, 41, 43, 47, 53, 59, 61, 67, 71, 73, 79, 83, 89, 97, 101, 103, 107, 109, 113, 127, 131, 137, 139, 149, 151, 157, 163, 167, 173, 179, 181, 191, 193, 197, 199]\n"
          ]
        }
      ]
    },
    {
      "cell_type": "code",
      "source": [
        "#5 Create an iterator class in Python that generates the Fibonacci sequence up to a specified number of terms.\n",
        "\n",
        "class FibonacciIterator:\n",
        "    def __init__(self, max_terms):\n",
        "        \"\"\"\n",
        "        Initializes the Fibonacci iterator with a specified number of terms.\n",
        "\n",
        "        Args:\n",
        "            max_terms (int): The number of Fibonacci terms to generate.\n",
        "        \"\"\"\n",
        "        if not isinstance(max_terms, int) or max_terms < 1:\n",
        "            raise ValueError(\"max_terms must be a positive integer.\")\n",
        "        self.max_terms = max_terms\n",
        "        self.current_term = 0\n",
        "        self.a, self.b = 0, 1\n",
        "\n",
        "    def __iter__(self):\n",
        "        \"\"\"\n",
        "        Returns the iterator object itself.\n",
        "\n",
        "        Returns:\n",
        "            FibonacciIterator: The iterator object.\n",
        "        \"\"\"\n",
        "        return self\n",
        "\n",
        "    def __next__(self):\n",
        "        \"\"\"\n",
        "        Returns the next Fibonacci number in the sequence.\n",
        "\n",
        "        Returns:\n",
        "            int: The next Fibonacci number.\n",
        "\n",
        "        Raises:\n",
        "            StopIteration: If the number of terms exceeds max_terms.\n",
        "        \"\"\"\n",
        "        if self.current_term >= self.max_terms:\n",
        "            raise StopIteration\n",
        "        if self.current_term == 0:\n",
        "            self.current_term += 1\n",
        "            return self.a\n",
        "        elif self.current_term == 1:\n",
        "            self.current_term += 1\n",
        "            return self.b\n",
        "        else:\n",
        "            self.a, self.b = self.b, self.a + self.b\n",
        "            self.current_term += 1\n",
        "            return self.b\n",
        "\n",
        "fib_iterator = FibonacciIterator(10)\n",
        "for num in fib_iterator:\n",
        "    print(num)\n"
      ],
      "metadata": {
        "colab": {
          "base_uri": "https://localhost:8080/"
        },
        "id": "qJOIQ75ifbO3",
        "outputId": "689aef13-8461-4b76-dd77-a77bc222bb33"
      },
      "execution_count": 5,
      "outputs": [
        {
          "output_type": "stream",
          "name": "stdout",
          "text": [
            "0\n",
            "1\n",
            "1\n",
            "2\n",
            "3\n",
            "5\n",
            "8\n",
            "13\n",
            "21\n",
            "34\n"
          ]
        }
      ]
    },
    {
      "cell_type": "code",
      "source": [
        "#6 Write a generator function in Python that yields the powers of 2 up to a given exponent.\n",
        "\n",
        "def powers_of_two(exponent):\n",
        "    \"\"\"\n",
        "    Generates powers of 2 from 2^0 up to 2^exponent.\n",
        "\n",
        "    Args:\n",
        "        exponent (int): The highest exponent to generate.\n",
        "\n",
        "    Yields:\n",
        "        int: Powers of 2 from 2^0 to 2^exponent.\n",
        "    \"\"\"\n",
        "    for n in range(exponent + 1):\n",
        "        yield 2 ** n\n",
        "\n",
        "for power in powers_of_two(10):\n",
        "    print(power)\n"
      ],
      "metadata": {
        "colab": {
          "base_uri": "https://localhost:8080/"
        },
        "id": "_e1siBmJfnlk",
        "outputId": "8f9ae727-0fb5-4dab-b907-8250c7d3de1d"
      },
      "execution_count": 15,
      "outputs": [
        {
          "output_type": "stream",
          "name": "stdout",
          "text": [
            "1\n",
            "2\n",
            "4\n",
            "8\n",
            "16\n",
            "32\n",
            "64\n",
            "128\n",
            "256\n",
            "512\n",
            "1024\n"
          ]
        }
      ]
    },
    {
      "cell_type": "code",
      "source": [
        "#7 Implement a generator function that reads a file line by line and yields each line as a string.\n",
        "\n",
        "def read_file_lines(filepath):\n",
        "    \"\"\"\n",
        "    Reads a file line by line and yields each line as a string.\n",
        "\n",
        "    Args:\n",
        "        filepath (str): The path to the file.\n",
        "\n",
        "    Yields:\n",
        "        str: Each line from the file.\n",
        "    \"\"\"\n",
        "    try:\n",
        "        with open(filepath, 'r') as file:\n",
        "            for line in file:\n",
        "                yield line.rstrip('\\n')  # Yield the line with the newline character removed\n",
        "    except FileNotFoundError:\n",
        "        print(f\"Error: File not found at '{filepath}'\")\n",
        "\n",
        "if __name__ == \"__main__\":\n",
        "\n",
        "    with open(\"sample.txt\", \"w\") as f:\n",
        "        f.write(\"This is the first line.\\n\")\n",
        "        f.write(\"This is the second line.\\n\")\n",
        "        f.write(\"And this is the third.\\n\")\n",
        "\n",
        "    for line in read_file_lines(\"sample.txt\"):\n",
        "        print(f\"Line read: '{line}'\")\n",
        "\n",
        "\n",
        "    for line in read_file_lines(\"nonexistent.txt\"):\n",
        "        print(line)"
      ],
      "metadata": {
        "colab": {
          "base_uri": "https://localhost:8080/"
        },
        "id": "ONxsvf0Pf06T",
        "outputId": "facdc1e2-9869-4c69-e2f7-809177b43f7c"
      },
      "execution_count": 20,
      "outputs": [
        {
          "output_type": "stream",
          "name": "stdout",
          "text": [
            "Line read: 'This is the first line.'\n",
            "Line read: 'This is the second line.'\n",
            "Line read: 'And this is the third.'\n",
            "Error: File not found at 'nonexistent.txt'\n"
          ]
        }
      ]
    },
    {
      "cell_type": "code",
      "source": [
        "#8  Use a lambda function in Python to sort a list of tuples based on the second element of each tuple.\n",
        "\n",
        "data = [('apple', 5), ('banana', 2), ('cherry', 8), ('date', 1)]\n",
        "\n",
        "\n",
        "sorted_data = sorted(data, key=lambda item: item[1])\n",
        "\n",
        "print(f\"Original data: {data}\")\n",
        "print(f\"Sorted data based on the second element: {sorted_data}\")"
      ],
      "metadata": {
        "colab": {
          "base_uri": "https://localhost:8080/"
        },
        "id": "goXplAUrgkWG",
        "outputId": "79c3c71f-e149-41bb-e83c-ee1f1959198c"
      },
      "execution_count": 21,
      "outputs": [
        {
          "output_type": "stream",
          "name": "stdout",
          "text": [
            "Original data: [('apple', 5), ('banana', 2), ('cherry', 8), ('date', 1)]\n",
            "Sorted data based on the second element: [('date', 1), ('banana', 2), ('apple', 5), ('cherry', 8)]\n"
          ]
        }
      ]
    },
    {
      "cell_type": "code",
      "source": [
        "#9  Write a Python program that uses `map()` to convert a list of temperatures from Celsius to Fahrenheit.\n",
        "\n",
        "def celsius_to_fahrenheit(celsius):\n",
        "    \"\"\"Converts Celsius to Fahrenheit.\"\"\"\n",
        "    return (celsius * 9/5) + 32\n",
        "\n",
        "celsius_temperatures = [0, 25, 100, -10, 30]\n",
        "\n",
        "fahrenheit_temperatures = list(map(celsius_to_fahrenheit, celsius_temperatures))\n",
        "\n",
        "print(f\"Celsius temperatures: {celsius_temperatures}\")\n",
        "print(f\"Fahrenheit temperatures: {fahrenheit_temperatures}\")\n",
        "\n",
        "fahrenheit_temps_lambda = list(map(lambda c: (c * 9/5) + 32, celsius_temperatures))\n",
        "print(f\"\\nFahrenheit temperatures (using lambda): {fahrenheit_temps_lambda}\")"
      ],
      "metadata": {
        "colab": {
          "base_uri": "https://localhost:8080/"
        },
        "id": "2HxJ__AAhIun",
        "outputId": "6ec0fd3d-1a0a-4845-fba3-47eded21127a"
      },
      "execution_count": 22,
      "outputs": [
        {
          "output_type": "stream",
          "name": "stdout",
          "text": [
            "Celsius temperatures: [0, 25, 100, -10, 30]\n",
            "Fahrenheit temperatures: [32.0, 77.0, 212.0, 14.0, 86.0]\n",
            "\n",
            "Fahrenheit temperatures (using lambda): [32.0, 77.0, 212.0, 14.0, 86.0]\n"
          ]
        }
      ]
    },
    {
      "cell_type": "code",
      "source": [
        "#10  Create a Python program that uses `filter()` to remove all the vowels from a given string.\n",
        "\n",
        "def is_not_vowel(char):\n",
        "    \"\"\"Checks if a character is not a vowel (case-insensitive).\"\"\"\n",
        "    vowels = \"aeiouAEIOU\"\n",
        "    return char not in vowels\n",
        "\n",
        "def remove_vowels(input_string):\n",
        "    \"\"\"Removes all vowels from a given string using filter().\"\"\"\n",
        "    filtered_chars = filter(is_not_vowel, input_string)\n",
        "    return \"\".join(filtered_chars)\n",
        "\n",
        "text = \"Hello, how are you today?\"\n",
        "consonants_only = remove_vowels(text)\n",
        "print(f\"Original string: '{text}'\")\n",
        "print(f\"String without vowels: '{consonants_only}'\")\n",
        "\n",
        "def remove_vowels_lambda(input_string):\n",
        "    \"\"\"Removes all vowels from a given string using filter() and a lambda.\"\"\"\n",
        "    vowels = \"aeiouAEIOU\"\n",
        "    filtered_chars = filter(lambda char: char not in vowels, input_string)\n",
        "    return \"\".join(filtered_chars)\n",
        "\n",
        "consonants_only_lambda = remove_vowels_lambda(text)\n",
        "print(f\"\\nString without vowels (using lambda): '{consonants_only_lambda}'\")"
      ],
      "metadata": {
        "colab": {
          "base_uri": "https://localhost:8080/"
        },
        "id": "9q4is6KGhcX6",
        "outputId": "1508e1e1-354e-4969-8af9-19a04bdda1e1"
      },
      "execution_count": 23,
      "outputs": [
        {
          "output_type": "stream",
          "name": "stdout",
          "text": [
            "Original string: 'Hello, how are you today?'\n",
            "String without vowels: 'Hll, hw r y tdy?'\n",
            "\n",
            "String without vowels (using lambda): 'Hll, hw r y tdy?'\n"
          ]
        }
      ]
    },
    {
      "cell_type": "code",
      "source": [
        "#11Imagine an accounting routine used in a book shop. It works on a list with sublists, which look like this:\n",
        "##order no.    book title and author                     quantity    price per item\n",
        "\n",
        "#34587          Learning python, Mark Lutz                  3                40.95\n",
        "\n",
        "#98762          Programming Python, Mark Lutz               5                #56.80\n",
        "\n",
        "#77226          Head first python, Paul Barry               3                32.95\n",
        "\n",
        "#88112           Einfuhrung in Python, Bernd Klein          3                24.99\n",
        "\n",
        "#Write a Python program, which returns a list with 2-tuples. Each tuple consists\n",
        "#of the order number and the product of the price per item and the quantity. The\n",
        "#product should be increased by 10,- € if the value of the order is smaller than\n",
        "#100,00 €. Write a Python program using lambda and map\n",
        "\n",
        "\n",
        "book_orders = [\n",
        "    [34587, \"Learning Python, Mark Lutz\", 3, 40.95],\n",
        "    [98762, \"Programming Python, Mark Lutz\", 5, 56.80],\n",
        "    [77226, \"Head First Python, Paul Barry\", 3, 32.95],\n",
        "    [88112, \"Einfuhrung in Python, Bernd Klein\", 3, 24.99],\n",
        "]\n",
        "\n",
        "def calculate_order_total(order):\n",
        "    \"\"\"\n",
        "    Calculates the order total, adding a surcharge if it's less than 100€.\n",
        "\n",
        "    Args:\n",
        "        order (list): A sublist representing an order with order number,\n",
        "                       book details, quantity, and price per item.\n",
        "\n",
        "    Returns:\n",
        "        tuple: A tuple containing the order number and the calculated total price.\n",
        "    \"\"\"\n",
        "    order_number = order[0]\n",
        "    quantity = order[2]\n",
        "    price_per_item = order[3]\n",
        "    total_price = quantity * price_per_item\n",
        "    if total_price < 100:\n",
        "        total_price += 10\n",
        "    return order_number, total_price\n",
        "\n",
        "order_totals = list(map(calculate_order_total, book_orders))\n",
        "\n",
        "print(\"Order Totals:\")\n",
        "for order_number, total in order_totals:\n",
        "    print(f\"Order Number: {order_number}, Total Price: {total:.2f}€\")\n"
      ],
      "metadata": {
        "colab": {
          "base_uri": "https://localhost:8080/"
        },
        "id": "rgYXy_Hihtcr",
        "outputId": "e15a0617-4999-4658-84ff-af33a79a84a3"
      },
      "execution_count": 24,
      "outputs": [
        {
          "output_type": "stream",
          "name": "stdout",
          "text": [
            "Order Totals:\n",
            "Order Number: 34587, Total Price: 122.85€\n",
            "Order Number: 98762, Total Price: 284.00€\n",
            "Order Number: 77226, Total Price: 108.85€\n",
            "Order Number: 88112, Total Price: 84.97€\n"
          ]
        }
      ]
    },
    {
      "cell_type": "markdown",
      "source": [],
      "metadata": {
        "id": "AR1NjfsEfyRi"
      }
    }
  ]
}